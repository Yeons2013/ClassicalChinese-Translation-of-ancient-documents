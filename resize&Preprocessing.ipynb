{
 "cells": [
  {
   "attachments": {},
   "cell_type": "markdown",
   "metadata": {},
   "source": [
    "사용한 데이터 고서 한자 인식 (OCR) 데이터\n",
    "(해서체 데이터 TS 1)"
   ]
  },
  {
   "cell_type": "code",
   "execution_count": 1,
   "metadata": {},
   "outputs": [],
   "source": [
    "import numpy as np\n",
    "import pandas as pd\n",
    "import os\n",
    "import random\n",
    "from tqdm import tqdm\n",
    "from PIL import Image, ImageDraw\n",
    "import pickle\n",
    "\n",
    "import json"
   ]
  },
  {
   "attachments": {},
   "cell_type": "markdown",
   "metadata": {},
   "source": [
    "Annotation format을 YOLO format으로 변경"
   ]
  },
  {
   "cell_type": "code",
   "execution_count": null,
   "metadata": {},
   "outputs": [],
   "source": [
    "list1 = os.listdir('1.Training/라벨링데이터/TL1/')\n",
    "list2 = os.listdir('1.Training/원천데이터/TS1/')\n",
    "path = '1.Training/라벨링데이터/TL1/'\n",
    "path2 = '1.Training/원천데이터/TS1/'"
   ]
  },
  {
   "cell_type": "code",
   "execution_count": null,
   "metadata": {},
   "outputs": [],
   "source": [
    "a_json = open(path+list1[0], encoding = 'utf-8')\n",
    "a_dict = json.load(a_json)"
   ]
  },
  {
   "cell_type": "code",
   "execution_count": null,
   "metadata": {},
   "outputs": [],
   "source": [
    "a_dict['Image_Text_Coord'][0][0]['bbox'][1] * 0.9"
   ]
  },
  {
   "cell_type": "code",
   "execution_count": null,
   "metadata": {},
   "outputs": [],
   "source": [
    "# 한자 인덱스 사전 만들기\n",
    "\n",
    "dic = {}\n",
    "cnt = 0\n",
    "for i in range(10000):\n",
    "    a_json = open(path+list1[i], encoding = 'utf-8')\n",
    "    a_dict = json.load(a_json)\n",
    "    for j in range(len(a_dict['Image_Text_Coord'])):\n",
    "        for k in range(len(a_dict['Image_Text_Coord'][j])):\n",
    "            hanza = a_dict['Image_Text_Coord'][j][k]['label']\n",
    "            if hanza not in dic :\n",
    "                dic[hanza] = cnt\n",
    "                cnt += 1"
   ]
  },
  {
   "attachments": {},
   "cell_type": "markdown",
   "metadata": {},
   "source": [
    "전처리"
   ]
  },
  {
   "cell_type": "code",
   "execution_count": null,
   "metadata": {},
   "outputs": [],
   "source": [
    "# 사용할 데이터의 상하단 여백 자름\n",
    "\n",
    "\n",
    "for idx in range(10000) :   # 깨끗한 해서체 데이터 중 10000개의 상하단 여백을 자름\n",
    "    img = Image.open(path2+list2[idx+1])\n",
    "    a_json = open(path+list1[idx+1], encoding = 'utf-8')\n",
    "    a_dict = json.load(a_json)\n",
    "\n",
    "    height = a_dict['Image_Height']\n",
    "    width = a_dict['Image_Width']\n",
    "\n",
    "    x = 0\n",
    "\n",
    "    min_box = []\n",
    "    max_box = []\n",
    "    for i in range(len(a_dict['Image_Text_Coord'])):\n",
    "        min_box.append(a_dict['Image_Text_Coord'][i][0]['bbox'][1])\n",
    "    min_y = min(min_box)\n",
    "\n",
    "    for i in range(len(a_dict['Image_Text_Coord'])):\n",
    "        max_box.append(a_dict['Image_Text_Coord'][i][-1]['bbox'][1] + a_dict['Image_Text_Coord'][i][-1]['bbox'][3])\n",
    "    max_y = max(max_box)\n",
    "\n",
    "    if max_y < 2800 :\n",
    "        max_y = 2800\n",
    "\n",
    "    y = min_y * 0.9\n",
    "    y2 = (height - max_y) * 0.9\n",
    "    height = y + (height - y - y2)\n",
    "\n",
    "    img2 = img.crop((x,y,width,height))\n",
    "    img2.save('crop/{}.jpg'.format(idx+1))\n",
    "\n",
    "\n",
    "    with open(\"crop/{}.txt\".format(idx+1), \"w\") as f:  \n",
    "        for i in a_dict['Image_Text_Coord'] :\n",
    "            for j in i :\n",
    "                xx = j['bbox'][0]\n",
    "                yy = j['bbox'][1] - y\n",
    "                ww = j['bbox'][2]\n",
    "                hh = j['bbox'][3]\n",
    "                f.write('{} {} {} {} {}\\n'.format(dic[j['label']], xx , yy, ww, hh))"
   ]
  },
  {
   "cell_type": "code",
   "execution_count": null,
   "metadata": {},
   "outputs": [],
   "source": []
  },
  {
   "cell_type": "code",
   "execution_count": null,
   "metadata": {},
   "outputs": [],
   "source": [
    "# resize와 padding을 수행하는 함수\n",
    "\n",
    "import cv2\n",
    "\n",
    "\n",
    "def padding(img, set_size):\n",
    "    if len(img.shape) < 3 :\n",
    "        img = np.expand_dims(img,axis=2)\n",
    "\n",
    "    try:\n",
    "        h,w,c = img.shape\n",
    "    except:\n",
    "        print('파일을 확인후 다시 시작하세요.')\n",
    "        raise\n",
    "\n",
    "    if h < w:\n",
    "        new_width = set_size\n",
    "        new_height = int(new_width * (h/w))\n",
    "    else:\n",
    "        new_height = set_size\n",
    "        new_width = int(new_height * (w/h))\n",
    "\n",
    "    if max(h, w) < set_size:\n",
    "        img = cv2.resize(img, (new_width, new_height), cv2.INTER_CUBIC)\n",
    "    else:\n",
    "        img = cv2.resize(img, (new_width, new_height), cv2.INTER_AREA)\n",
    "\n",
    " \n",
    "    try:\n",
    "        h,w,c = img.shape\n",
    "    except:\n",
    "        print('파일을 확인후 다시 시작하세요.')\n",
    "        raise\n",
    "\n",
    "    delta_w = set_size - w\n",
    "    delta_h = set_size - h\n",
    "    top, bottom = delta_h//2, delta_h-(delta_h//2)\n",
    "    left, right = delta_w//2, delta_w-(delta_w//2)\n",
    "\n",
    "    new_img = cv2.copyMakeBorder(img, top, bottom, left, right, cv2.BORDER_CONSTANT, value=[0, 0, 0])\n",
    "    img = Image.fromarray(new_img)\n",
    "\n",
    "    return img"
   ]
  },
  {
   "cell_type": "code",
   "execution_count": null,
   "metadata": {},
   "outputs": [],
   "source": [
    "#이미지 Resize 및 Annotation 데이터 수정 후 저장\n",
    "\n",
    "for idx in range(1,10001): #1제이슨 2이미지\n",
    "    txt_path = 'crop/{}.txt'.format(idx)\n",
    "    f = open(txt_path, 'r')\n",
    "    lines = f.readlines()\n",
    "    txt_ls = []\n",
    "    for line in lines:\n",
    "        line = line.strip().split(' ')\n",
    "        txt_ls.append(line)\n",
    "    f.close()\n",
    "\n",
    "    img,hh,ww = padding('{}.jpg'.format(idx))\n",
    "    sv_path = 'crop_resize800/{}.jpg'.format(idx)\n",
    "\n",
    "\n",
    "    wi = ww\n",
    "    he = hh\n",
    "\n",
    "    with open(\"crop_resize800/{}.txt\".format(idx), \"w\") as f:  \n",
    "        for i in range(len(txt_ls)):\n",
    "            cl = int(txt_ls[i][0])\n",
    "            xx = float(txt_ls[i][1])\n",
    "            yy = float(txt_ls[i][2])\n",
    "            ww = float(txt_ls[i][3])\n",
    "            hh = float(txt_ls[i][4])\n",
    "\n",
    "\n",
    "\n",
    "\n",
    "            x = (((xx+(he-wi)/2)*2 + ww)/2) / he\n",
    "            y = ((yy*2 + hh)/2) / he\n",
    "            w = ww / he\n",
    "            h = hh / he   \n",
    "            f.write('{} {} {} {} {}\\n'.format(cl, x , y, w, h))\n",
    "        \n",
    "        # for i in a_dict['Image_Text_Coord'] :\n",
    "        #     for j in i :\n",
    "        #         x = (((j['bbox'][0]+(he-wi)/2)*2 + j['bbox'][2])/2) / he\n",
    "        #         y = ((j['bbox'][1]*2 + j['bbox'][3])/2) / he\n",
    "        #         w = j['bbox'][2] / he\n",
    "        #         h = j['bbox'][3] / he\n",
    "        #         f.write('{} {} {} {} {}\\n'.format(dic[j['label']], x , y, w, h))\n",
    "\n",
    "    img = img.resize((800,800))\n",
    "    img.save(sv_path)"
   ]
  },
  {
   "cell_type": "code",
   "execution_count": null,
   "metadata": {},
   "outputs": [],
   "source": [
    "f = open(\"crop_resize800/1.txt\", 'r')\n",
    "# f = open(\"BoundingBox/000000000005866_003.txt\", 'r')\n",
    "line = f.readlines()\n",
    "f.close()"
   ]
  },
  {
   "cell_type": "code",
   "execution_count": null,
   "metadata": {},
   "outputs": [],
   "source": [
    "# 샘플 하나 바운딩박스 확인\n",
    "\n",
    "img = Image.open('crop_resize800/1.jpg').convert('RGB')\n",
    "# img = Image.open('1.Training/원천데이터/TS1/000000000005866_003.jpg').convert('RGB')\n",
    "# img.show()\n",
    "\n",
    "img2 = np.array(img)\n",
    "\n",
    "\n",
    "x_list = []\n",
    "y_list = []\n",
    "max_X_list = []\n",
    "max_y_list = []\n",
    "draw = ImageDraw.Draw(img)\n",
    "\n",
    "for li in line :\n",
    "    split_data = li.split(' ')\n",
    "    list22 = []\n",
    "    for i in range(1,5):\n",
    "        if i < 4 :\n",
    "            list22.append(float(split_data[i]))\n",
    "        else :\n",
    "            list22.append(float(split_data[i][:-1]))\n",
    "\n",
    "    x = list22[0] * img2.shape[1] - (list22[2] * img2.shape[1]) / 2\n",
    "    y = list22[1] * img2.shape[0] - (list22[3] * img2.shape[0]) / 2\n",
    "    max_x = list22[0] * img2.shape[1] + (list22[2] * img2.shape[1]) / 2\n",
    "    max_y = list22[1] * img2.shape[0] + (list22[3] * img2.shape[0]) / 2\n",
    "    \n",
    "    draw.rectangle((x,y,max_x,max_y), outline=(0,255,0), width = 3)\n",
    "\n",
    "img.show()"
   ]
  },
  {
   "attachments": {},
   "cell_type": "markdown",
   "metadata": {},
   "source": [
    "Train / Valid 분리"
   ]
  },
  {
   "cell_type": "code",
   "execution_count": 7,
   "metadata": {},
   "outputs": [
    {
     "data": {
      "text/plain": [
       "(8000, 2000)"
      ]
     },
     "execution_count": 7,
     "metadata": {},
     "output_type": "execute_result"
    }
   ],
   "source": [
    "index_list = [i for i in range(10000)]\n",
    "\n",
    "random.shuffle(index_list)\n",
    "\n",
    "train_index = index_list[:8000]\n",
    "valid_index = index_list[8000:]\n",
    "\n",
    "len(train_index), len(valid_index)"
   ]
  },
  {
   "cell_type": "code",
   "execution_count": null,
   "metadata": {},
   "outputs": [],
   "source": [
    "path = 'crop_resize800/'\n",
    "\n",
    "#train, valid 경로를 담은 text 파일 생성\n",
    "\n",
    "f = open('train.txt', 'w')\n",
    "for index in train_index :\n",
    "    tr = path+index\n",
    "    if tr[-3:] == 'jpg':\n",
    "        # 문자 입력\n",
    "        f.write(path + tr+\"\\n\")\n",
    "f.close()\n",
    "\n",
    "f = open('valid.txt', 'w')\n",
    "for index in valid_index :\n",
    "    va = path+index\n",
    "    if va[-3:] == 'jpg':\n",
    "        # 문자 입력\n",
    "        f.write(path + va+\"\\n\")\n",
    "f.close()"
   ]
  },
  {
   "cell_type": "code",
   "execution_count": null,
   "metadata": {},
   "outputs": [],
   "source": [
    "f = open('ClassNames.names', 'w', encoding='utf-8')\n",
    "\n",
    "\n",
    "for i in dic.keys() :\n",
    "    f.write(i+'\\n')\n",
    "\n",
    "# 파일 닫기\n",
    "f.close()"
   ]
  },
  {
   "cell_type": "code",
   "execution_count": null,
   "metadata": {},
   "outputs": [],
   "source": []
  }
 ],
 "metadata": {
  "kernelspec": {
   "display_name": "test",
   "language": "python",
   "name": "test"
  },
  "language_info": {
   "codemirror_mode": {
    "name": "ipython",
    "version": 3
   },
   "file_extension": ".py",
   "mimetype": "text/x-python",
   "name": "python",
   "nbconvert_exporter": "python",
   "pygments_lexer": "ipython3",
   "version": "3.10.9"
  },
  "orig_nbformat": 4,
  "vscode": {
   "interpreter": {
    "hash": "865f927eac30e896ebe15021531e7e53375d7d4c435427f165fd8b672885c786"
   }
  }
 },
 "nbformat": 4,
 "nbformat_minor": 2
}
